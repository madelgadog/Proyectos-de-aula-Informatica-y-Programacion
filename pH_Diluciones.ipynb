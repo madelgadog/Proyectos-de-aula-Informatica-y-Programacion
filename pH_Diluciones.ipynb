{
  "nbformat": 4,
  "nbformat_minor": 0,
  "metadata": {
    "colab": {
      "provenance": [],
      "include_colab_link": true
    },
    "kernelspec": {
      "name": "python3",
      "display_name": "Python 3"
    },
    "language_info": {
      "name": "python"
    }
  },
  "cells": [
    {
      "cell_type": "markdown",
      "metadata": {
        "id": "view-in-github",
        "colab_type": "text"
      },
      "source": [
        "<a href=\"https://colab.research.google.com/github/madelgadog/Proyectos-de-aula-Informatica-y-Programacion/blob/main/pH_Diluciones.ipynb\" target=\"_parent\"><img src=\"https://colab.research.google.com/assets/colab-badge.svg\" alt=\"Open In Colab\"/></a>"
      ]
    },
    {
      "cell_type": "markdown",
      "source": [
        "Calcular la concentración a partir de 5 disoluciones seriadas para posteriormente calcular loa pH's, indicando también si es un pH acido, basico o neutro. Mostrando al final el promedio de las concentraciones y pH calculados.\n"
      ],
      "metadata": {
        "id": "qY0ed4p2EsSa"
      }
    },
    {
      "cell_type": "code",
      "source": [
        "import math\n",
        "\n",
        "# Variables para almacenar los resultados\n",
        "concentraciones_finales = []\n",
        "pH_valores = []\n",
        "\n",
        "# Entrada de datos y cálculos\n",
        "for i in range(1, 6):\n",
        "    print(f\"Disolución número {i}\")\n",
        "    c_inicial = float(input(\"Ingrese la concentración de la solución \" + str(i) + \" (en mol/L):\"))\n",
        "    v_inicial = float(input(\"Ingrese el volumen inicial de la solución \" + str(i) + \" (en litros): \"))\n",
        "    v_final = float(input(\"Ingrese el volumen final de la solución \" + str(i) + \" (en litros): \"))\n",
        "\n",
        "    # Cálculo de la concentración\n",
        "    c_final = (c_inicial * v_inicial) / v_final\n",
        "    concentraciones_finales.append(c_final)\n",
        "\n",
        "    # Cálculo del pH\n",
        "    pH = -math.log10(c_final)\n",
        "    pH_valores.append(pH)\n",
        "\n",
        "    if pH < 7:\n",
        "        print(f\"La solución es ácida con un pH de: {pH}\")\n",
        "    elif pH == 7:\n",
        "        print(f\"La solución es neutra con un pH de: {pH}\")\n",
        "    if pH > 7:\n",
        "        print(f\"La solución es básica con un pH de: {pH}\")\n",
        "\n",
        "# Cálculo del promedio\n",
        "promedio_concentraciones = sum(concentraciones_finales) / len(concentraciones_finales)\n",
        "promedio_pH = sum(pH_valores) / len(pH_valores)\n",
        "\n",
        "# Imprimir resultados finales\n",
        "print(\"Promedio de concentraciones finales:\", promedio_concentraciones)\n",
        "print(\"Promedio de valores de pH:\", promedio_pH)\n"
      ],
      "metadata": {
        "colab": {
          "base_uri": "https://localhost:8080/"
        },
        "id": "4p1PkkBDQiT_",
        "outputId": "be914fc4-95b8-455c-d77a-87a1b082be1b"
      },
      "execution_count": null,
      "outputs": [
        {
          "output_type": "stream",
          "name": "stdout",
          "text": [
            "Disolución número 1\n",
            "Ingrese la concentración de la solución 1 (en mol/L):0.1\n",
            "Ingrese el volumen inicial de la solución 1 (en litros): 0.1\n",
            "Ingrese el volumen final de la solución 1 (en litros): 0.2\n",
            "La solución es ácida con un pH de: 1.301029995663981\n",
            "Disolución número 2\n",
            "Ingrese la concentración de la solución 2 (en mol/L):0.0001\n",
            "Ingrese el volumen inicial de la solución 2 (en litros): 0.12\n",
            "Ingrese el volumen final de la solución 2 (en litros): 0.25\n",
            "La solución es ácida con un pH de: 4.318758762624412\n",
            "Disolución número 3\n",
            "Ingrese la concentración de la solución 3 (en mol/L):0.00000005\n",
            "Ingrese el volumen inicial de la solución 3 (en litros): 0.002\n",
            "Ingrese el volumen final de la solución 3 (en litros): 0.1\n",
            "La solución es básica con un pH de: 9.0\n",
            "Disolución número 4\n",
            "Ingrese la concentración de la solución 4 (en mol/L):0.00000000005\n",
            "Ingrese el volumen inicial de la solución 4 (en litros): 0.07\n",
            "Ingrese el volumen final de la solución 4 (en litros): 0.2\n",
            "La solución es básica con un pH de: 10.756961951313706\n",
            "Disolución número 5\n",
            "Ingrese la concentración de la solución 5 (en mol/L):0.00000000007\n",
            "Ingrese el volumen inicial de la solución 5 (en litros): 0.0015\n",
            "Ingrese el volumen final de la solución 5 (en litros): 0.029\n",
            "La solución es básica con un pH de: 11.441208698829017\n",
            "Promedio de concentraciones finales: 0.01000960020422414\n",
            "Promedio de valores de pH: 7.363591881686223\n"
          ]
        }
      ]
    },
    {
      "cell_type": "code",
      "source": [],
      "metadata": {
        "id": "GXCuZIz56kRe"
      },
      "execution_count": null,
      "outputs": []
    }
  ]
}