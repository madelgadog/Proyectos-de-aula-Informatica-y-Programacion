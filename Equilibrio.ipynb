{
  "cells": [
    {
      "cell_type": "markdown",
      "metadata": {
        "id": "view-in-github",
        "colab_type": "text"
      },
      "source": [
        "<a href=\"https://colab.research.google.com/github/madelgadog/Proyectos-de-aula-Informatica-y-Programacion/blob/main/Equilibrio.ipynb\" target=\"_parent\"><img src=\"https://colab.research.google.com/assets/colab-badge.svg\" alt=\"Open In Colab\"/></a>"
      ]
    },
    {
      "cell_type": "code",
      "execution_count": null,
      "metadata": {
        "id": "HuvRqirJd_sY",
        "colab": {
          "base_uri": "https://localhost:8080/",
          "height": 39
        },
        "outputId": "4a9097cf-9b14-403b-9998-033e27fbaa4b"
      },
      "outputs": [
        {
          "output_type": "execute_result",
          "data": {
            "text/plain": [
              "X"
            ],
            "text/latex": "$\\displaystyle X$"
          },
          "metadata": {},
          "execution_count": 2
        }
      ],
      "source": [
        "import numpy as np\n",
        "import sympy as sp\n",
        "import math as ma\n",
        "sp.Symbol('X')"
      ]
    },
    {
      "cell_type": "markdown",
      "source": [
        "##EQUILIBRIO QUÍMICO CON CONCENTRACIONES DE 2 ESPECIES CONOCIDAS y 1 PRODUCTO##\n",
        "\n"
      ],
      "metadata": {
        "id": "5t2UTbqccccO"
      }
    },
    {
      "cell_type": "code",
      "execution_count": null,
      "metadata": {
        "colab": {
          "base_uri": "https://localhost:8080/"
        },
        "id": "j9_e13hiedyI",
        "outputId": "dfe0e5ad-0abe-4e4c-fa47-6766e4c4ada0"
      },
      "outputs": [
        {
          "name": "stdout",
          "output_type": "stream",
          "text": [
            "Concentración primer reactivo: 0.42\n"
          ]
        }
      ],
      "source": [
        "CONCENTRACIÓN1 = input('Concentración primer reactivo: ')\n",
        "CONCENTRACIÓN1 = float(CONCENTRACIÓN1)"
      ]
    },
    {
      "cell_type": "code",
      "source": [
        "COEFICIENTE1 = input('Coeficiente del primer reactivo en la ecuación balanceada: ')\n",
        "COEFICIENTE1 = float(COEFICIENTE1)"
      ],
      "metadata": {
        "id": "ya3Be0FJQ3Uk"
      },
      "execution_count": null,
      "outputs": []
    },
    {
      "cell_type": "code",
      "execution_count": null,
      "metadata": {
        "colab": {
          "base_uri": "https://localhost:8080/"
        },
        "id": "tpp3Xt7OjB-D",
        "outputId": "909ff358-9cec-4782-fbbf-9323d433a7ae"
      },
      "outputs": [
        {
          "name": "stdout",
          "output_type": "stream",
          "text": [
            "Concentración segundo reactivo: 0.602\n"
          ]
        }
      ],
      "source": [
        "CONCENTRACIÓN2 = input('Concentración segundo reactivo: ')\n",
        "CONCENTRACIÓN2 = float(CONCENTRACIÓN2)"
      ]
    },
    {
      "cell_type": "code",
      "source": [
        "COEFICIENTE2 = input('Coefieciente del segundo reactivo en la ecuación balanceada: ')\n",
        "COEFICIENTE2 = float(COEFICIENTE2)"
      ],
      "metadata": {
        "colab": {
          "base_uri": "https://localhost:8080/"
        },
        "id": "hEFMaR0-RuY5",
        "outputId": "02cc0649-844c-4bf7-96c1-e55326dcce05"
      },
      "execution_count": null,
      "outputs": [
        {
          "name": "stdout",
          "output_type": "stream",
          "text": [
            "Coefieciente del segundo reactivo en la ecuación balanceada: 1\n"
          ]
        }
      ]
    },
    {
      "cell_type": "code",
      "source": [
        "CONCENTRACIÓN3 = input('Concentración producto: ')\n",
        "CONCENTRACIÓN3 = float(CONCENTRACIÓN3)"
      ],
      "metadata": {
        "colab": {
          "base_uri": "https://localhost:8080/"
        },
        "id": "XAqtGNaNQBWM",
        "outputId": "e1a074bd-1ac9-4471-886b-503af0154701"
      },
      "execution_count": null,
      "outputs": [
        {
          "name": "stdout",
          "output_type": "stream",
          "text": [
            "Concentración producto: 0.113\n"
          ]
        }
      ]
    },
    {
      "cell_type": "code",
      "source": [
        "COEFICIENTE3 = input('Coeficiente del producto en la ecuación balanceada: ')\n",
        "COEFICIENTE3 = float(COEFICIENTE3)"
      ],
      "metadata": {
        "colab": {
          "base_uri": "https://localhost:8080/"
        },
        "id": "hfuuwoC6SLUB",
        "outputId": "8f3e2f23-865a-4f16-88b1-666485e64cf3"
      },
      "execution_count": null,
      "outputs": [
        {
          "name": "stdout",
          "output_type": "stream",
          "text": [
            "Coeficiente del producto en la ecuación balanceada: 2\n"
          ]
        }
      ]
    },
    {
      "cell_type": "code",
      "execution_count": null,
      "metadata": {
        "id": "8suybRznjP0s"
      },
      "outputs": [],
      "source": [
        "Kc = ((pow(CONCENTRACIÓN3, COEFICIENTE3))) / (pow(CONCENTRACIÓN1, COEFICIENTE1)) * (pow(CONCENTRACIÓN2, COEFICIENTE2))"
      ]
    },
    {
      "cell_type": "code",
      "source": [
        "print('La constante de equilibrio de la especie es: ')\n",
        "print(Kc)"
      ],
      "metadata": {
        "colab": {
          "base_uri": "https://localhost:8080/"
        },
        "id": "C-xBe_N6pmzj",
        "outputId": "7754e71b-0a0a-4ec6-d8dc-a77231873518"
      },
      "execution_count": null,
      "outputs": [
        {
          "output_type": "stream",
          "name": "stdout",
          "text": [
            "La constante de equilibrio de la especie es: \n",
            "6.351063927007847\n"
          ]
        }
      ]
    },
    {
      "cell_type": "markdown",
      "source": [
        "###EQUILIBRIO QUÍMICO CON CONCENTRACIONES DE 1 ESPECIE CONOCIDA y 2 PRODUCTOS"
      ],
      "metadata": {
        "id": "I3MCoDM9at4A"
      }
    },
    {
      "cell_type": "code",
      "source": [
        "CONCENTRACIÓN1 = input('Concentración primer reactivo: ')\n",
        "CONCENTRACIÓN1 = float(CONCENTRACIÓN1)"
      ],
      "metadata": {
        "colab": {
          "base_uri": "https://localhost:8080/"
        },
        "id": "_pgr23YSa1Mx",
        "outputId": "41ce50a4-1e86-4c30-c913-bf8f4222aded"
      },
      "execution_count": null,
      "outputs": [
        {
          "name": "stdout",
          "output_type": "stream",
          "text": [
            "Concentración primer reactivo: 1.1\n"
          ]
        }
      ]
    },
    {
      "cell_type": "code",
      "source": [
        "COEFICIENTE1 = input('Coeficiente del primer reactivo en la ecuación balanceada: ')\n",
        "COEFICIENTE1 = float(COEFICIENTE1)"
      ],
      "metadata": {
        "colab": {
          "base_uri": "https://localhost:8080/"
        },
        "id": "FlEq64eJa7xk",
        "outputId": "69590efe-cc42-44f6-ad1e-97b3a2791a23"
      },
      "execution_count": null,
      "outputs": [
        {
          "name": "stdout",
          "output_type": "stream",
          "text": [
            "Coeficiente del primer reactivo en la ecuación balanceada: 2\n"
          ]
        }
      ]
    },
    {
      "cell_type": "code",
      "source": [
        "CONCENTRACIÓN2 = input('Concentración primer producto: ')\n",
        "CONCENTRACIÓN2 = float(CONCENTRACIÓN2)"
      ],
      "metadata": {
        "colab": {
          "base_uri": "https://localhost:8080/"
        },
        "id": "nEJPh9l-bJGU",
        "outputId": "db1c5337-9d29-418b-dcee-ed3646c90584"
      },
      "execution_count": null,
      "outputs": [
        {
          "name": "stdout",
          "output_type": "stream",
          "text": [
            "Concentración primer producto: 3.9\n"
          ]
        }
      ]
    },
    {
      "cell_type": "code",
      "source": [
        "COEFICIENTE2 = input('Coefieciente del primer prodcuto en la ecuación balanceada: ')\n",
        "COEFICIENTE2 = float(COEFICIENTE2)"
      ],
      "metadata": {
        "colab": {
          "base_uri": "https://localhost:8080/"
        },
        "id": "Irhjv8CkbUYY",
        "outputId": "72a604aa-8496-48ae-a480-db0b98efd10e"
      },
      "execution_count": null,
      "outputs": [
        {
          "name": "stdout",
          "output_type": "stream",
          "text": [
            "Coefieciente del primer prodcuto en la ecuación balanceada: 2\n"
          ]
        }
      ]
    },
    {
      "cell_type": "code",
      "source": [
        "CONCENTRACIÓN3 = input('Concentración producto: ')\n",
        "CONCENTRACIÓN3 = float(CONCENTRACIÓN3)"
      ],
      "metadata": {
        "colab": {
          "base_uri": "https://localhost:8080/"
        },
        "id": "e1PjGuwmbZwV",
        "outputId": "72dcb137-61a8-4cfc-af27-f011dd9143de"
      },
      "execution_count": null,
      "outputs": [
        {
          "name": "stdout",
          "output_type": "stream",
          "text": [
            "Concentración producto: 1.95\n"
          ]
        }
      ]
    },
    {
      "cell_type": "code",
      "source": [
        "COEFICIENTE3 = input('Coeficiente del producto en la ecuación balanceada: ')\n",
        "COEFICIENTE3 = float(COEFICIENTE3)"
      ],
      "metadata": {
        "colab": {
          "base_uri": "https://localhost:8080/"
        },
        "id": "Jre-cTbYbl4U",
        "outputId": "6e026858-e7e2-485c-cf62-f48a35d4445c"
      },
      "execution_count": null,
      "outputs": [
        {
          "name": "stdout",
          "output_type": "stream",
          "text": [
            "Coeficiente del producto en la ecuación balanceada: 1\n"
          ]
        }
      ]
    },
    {
      "cell_type": "code",
      "source": [
        "Kc = ((pow(CONCENTRACIÓN2, COEFICIENTE2)) * (pow(CONCENTRACIÓN3, COEFICIENTE3))) / (pow(CONCENTRACIÓN1, COEFICIENTE1))"
      ],
      "metadata": {
        "id": "AgrSI3Aab3qu"
      },
      "execution_count": null,
      "outputs": []
    },
    {
      "cell_type": "code",
      "source": [
        "print('La constante del equilibrio de la especie es: ')\n",
        "print(Kc)"
      ],
      "metadata": {
        "colab": {
          "base_uri": "https://localhost:8080/"
        },
        "id": "1EuCBD68cgi1",
        "outputId": "8816adab-0365-442f-8fb9-c11046962747"
      },
      "execution_count": null,
      "outputs": [
        {
          "output_type": "stream",
          "name": "stdout",
          "text": [
            "La constante del equilibrio de la especie es: \n",
            "24.511983471074373\n"
          ]
        }
      ]
    },
    {
      "cell_type": "markdown",
      "source": [
        "### EQUILIBRIO DADAS CONCENTRACIONES DE REACTIVOS Y CONSTANTE ÁCIDA O BÁSICA\n",
        "\n",
        "\n"
      ],
      "metadata": {
        "id": "6ioSOSQdcbab"
      }
    },
    {
      "cell_type": "code",
      "source": [
        "CONCENTRACIÓN1 = input('Concentración primer reactivo: ')\n",
        "CONCENTRACIÓN1 = float(CONCENTRACIÓN1)"
      ],
      "metadata": {
        "colab": {
          "base_uri": "https://localhost:8080/"
        },
        "id": "1SnI9cehVCai",
        "outputId": "8a21a6f2-8864-47cc-89f1-f92df44e3729"
      },
      "execution_count": null,
      "outputs": [
        {
          "name": "stdout",
          "output_type": "stream",
          "text": [
            "Concentración primer reactivo: 1\n"
          ]
        }
      ]
    },
    {
      "cell_type": "code",
      "source": [
        "COEFICIENTE1 = input('Coeficiente del primer reactivo en la ecuación balanceada: ')\n",
        "COEFICIENTE1 = float(COEFICIENTE1)"
      ],
      "metadata": {
        "colab": {
          "base_uri": "https://localhost:8080/"
        },
        "id": "z6Cn_5bbVXp0",
        "outputId": "240e4fed-aade-428c-9abe-10d9b3f65b60"
      },
      "execution_count": null,
      "outputs": [
        {
          "name": "stdout",
          "output_type": "stream",
          "text": [
            "Coeficiente del primer reactivo en la ecuación balanceada: 1\n"
          ]
        }
      ]
    },
    {
      "cell_type": "code",
      "source": [
        "CONCENTRACIÓN2 = input('Concentración segundo reactivo: ')\n",
        "CONCENTRACIÓN2 = float(CONCENTRACIÓN2)"
      ],
      "metadata": {
        "colab": {
          "base_uri": "https://localhost:8080/"
        },
        "id": "R4Io1SOEVckk",
        "outputId": "01ab1f5d-97ed-4576-8668-6e2ad5ecdc51"
      },
      "execution_count": null,
      "outputs": [
        {
          "name": "stdout",
          "output_type": "stream",
          "text": [
            "Concentración segundo reactivo: 0.5\n"
          ]
        }
      ]
    },
    {
      "cell_type": "code",
      "source": [
        "COEFICIENTE2 = input('Coeficiente del segundo reactivo en la ecuación balanceada: ')\n",
        "COEFICIENTE2 = float(COEFICIENTE2)"
      ],
      "metadata": {
        "colab": {
          "base_uri": "https://localhost:8080/"
        },
        "id": "zTu_PB8tXdks",
        "outputId": "1a5370ee-0c98-40b8-f4b7-c7a9a10e8860"
      },
      "execution_count": null,
      "outputs": [
        {
          "name": "stdout",
          "output_type": "stream",
          "text": [
            "Coeficiente del segundo reactivo en la ecuación balanceada: 1\n"
          ]
        }
      ]
    },
    {
      "cell_type": "markdown",
      "source": [],
      "metadata": {
        "id": "mhIGgkK5r9J-"
      }
    },
    {
      "cell_type": "code",
      "source": [
        "COEFICIENTE3 = input('Coeficiente del producto en la ecuación balanceada: ')\n",
        "COEFICIENTE3 = float(COEFICIENTE3)"
      ],
      "metadata": {
        "colab": {
          "base_uri": "https://localhost:8080/"
        },
        "id": "N09bVA87kkMQ",
        "outputId": "522394ae-61ae-4c2c-92cb-73895f2a1ee3"
      },
      "execution_count": null,
      "outputs": [
        {
          "name": "stdout",
          "output_type": "stream",
          "text": [
            "Coeficiente del producto en la ecuación balanceada: 2\n"
          ]
        }
      ]
    },
    {
      "cell_type": "code",
      "source": [
        "Kc = input('Constante de basicidad o acidez: ')"
      ],
      "metadata": {
        "colab": {
          "base_uri": "https://localhost:8080/"
        },
        "id": "nnACqMLnXvQt",
        "outputId": "e930ea37-a07b-4a2e-aa9f-91bd8b2d46da"
      },
      "execution_count": null,
      "outputs": [
        {
          "name": "stdout",
          "output_type": "stream",
          "text": [
            "Constante de basicidad o acidez: 8.8 x 10^-4\n"
          ]
        }
      ]
    },
    {
      "cell_type": "code",
      "source": [
        "sp.Symbol('x')\n",
        "expr = (COEFICIENTE3*x)**(COEFICIENTE3) / ((CONCENTRACIÓN1-x)**(COEFICIENTE1)) * ((CONCENTRACIÓN2-x)**(COEFICIENTE2))\n",
        "raiz=sp.nsolve(expr,0.1)\n",
        "print(raiz)"
      ],
      "metadata": {
        "colab": {
          "base_uri": "https://localhost:8080/"
        },
        "id": "8wTcec7nqr-K",
        "outputId": "c8f6d7b5-c274-4278-dcf0-83cd6ac04de0"
      },
      "execution_count": null,
      "outputs": [
        {
          "output_type": "stream",
          "name": "stdout",
          "text": [
            "4.94221584919644e-8\n"
          ]
        }
      ]
    },
    {
      "cell_type": "code",
      "source": [
        "8.8 * (pow(10, -4))"
      ],
      "metadata": {
        "colab": {
          "base_uri": "https://localhost:8080/"
        },
        "id": "l4HPSi32fm6r",
        "outputId": "443dea03-c6c1-4421-87d0-461c155f4a0d"
      },
      "execution_count": null,
      "outputs": [
        {
          "output_type": "execute_result",
          "data": {
            "text/plain": [
              "0.0008800000000000001"
            ]
          },
          "metadata": {},
          "execution_count": 43
        }
      ]
    },
    {
      "cell_type": "code",
      "source": [
        "2 ** 3"
      ],
      "metadata": {
        "colab": {
          "base_uri": "https://localhost:8080/"
        },
        "id": "5fBkwCRpqJR9",
        "outputId": "89770bc0-9323-437b-c924-b4a3d6b796bc"
      },
      "execution_count": null,
      "outputs": [
        {
          "output_type": "execute_result",
          "data": {
            "text/plain": [
              "8"
            ]
          },
          "metadata": {},
          "execution_count": 62
        }
      ]
    }
  ],
  "metadata": {
    "colab": {
      "provenance": [],
      "include_colab_link": true
    },
    "kernelspec": {
      "display_name": "Python 3",
      "name": "python3"
    },
    "language_info": {
      "name": "python"
    }
  },
  "nbformat": 4,
  "nbformat_minor": 0
}