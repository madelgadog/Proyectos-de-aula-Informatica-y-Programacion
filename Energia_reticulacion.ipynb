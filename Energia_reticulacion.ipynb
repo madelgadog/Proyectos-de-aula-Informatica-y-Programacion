{
  "nbformat": 4,
  "nbformat_minor": 0,
  "metadata": {
    "colab": {
      "provenance": [],
      "include_colab_link": true
    },
    "kernelspec": {
      "name": "python3",
      "display_name": "Python 3"
    },
    "language_info": {
      "name": "python"
    }
  },
  "cells": [
    {
      "cell_type": "markdown",
      "metadata": {
        "id": "view-in-github",
        "colab_type": "text"
      },
      "source": [
        "<a href=\"https://colab.research.google.com/github/madelgadog/Proyectos-de-aula-Informatica-y-Programacion/blob/main/Energia_reticulacion.ipynb\" target=\"_parent\"><img src=\"https://colab.research.google.com/assets/colab-badge.svg\" alt=\"Open In Colab\"/></a>"
      ]
    },
    {
      "cell_type": "code",
      "execution_count": null,
      "metadata": {
        "id": "RrJvdcnlraIO"
      },
      "outputs": [],
      "source": [
        "import math"
      ]
    },
    {
      "cell_type": "code",
      "source": [
        "# se definen las constantes y los parametros del compuesto \n",
        "\n",
        "Na = 6.033e23   #numero de avogadro\n",
        "\n",
        "e = 1.602e-19  #carga del electron en coulombs\n",
        "\n",
        "epsilon = 9.854e-12    #constanerte dielectrica del vacio en F/m\n",
        "\n",
        "M = 100e-3  #Masa molecular del compuesto en kg/mol\n",
        "\n",
        "Z1 = 1  #carga del cation \n",
        "\n",
        "Z2 = -1  #carga del anion \n",
        "\n",
        "r = 200e-12  # distancia interatomica en metros \n",
        "\n",
        "\n",
        "#Calcular la energia reticular del compueto utilizando la ecuación de Born-Landé\n",
        "\n",
        "E = -M * (Z1 * Z2 * e ** 2) / (4 * math.pi * epsilon * r * Na)\n",
        "\n",
        "print(\"La energia reticular del compuesto es:\", E, \"J/mol\")"
      ],
      "metadata": {
        "colab": {
          "base_uri": "https://localhost:8080/"
        },
        "id": "DFiClUEFrhjt",
        "outputId": "d02782b8-a88d-4d08-b02a-9106b792a6e8"
      },
      "execution_count": null,
      "outputs": [
        {
          "output_type": "stream",
          "name": "stdout",
          "text": [
            "La energia reticular del compuesto es: 1.717668220274303e-43 J/mol\n"
          ]
        }
      ]
    },
    {
      "cell_type": "markdown",
      "source": [
        "## los valores de las constantes y parámetros deben ajustarse para cada compuesto específico. Además, esta ecuación supone que el compuesto tiene una estructura cristalina y no considera los efectos de la temperatura o la presión."
      ],
      "metadata": {
        "id": "9WAn6T8vwCfo"
      }
    }
  ]
}