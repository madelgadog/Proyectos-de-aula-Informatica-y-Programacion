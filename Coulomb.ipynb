{
  "nbformat": 4,
  "nbformat_minor": 0,
  "metadata": {
    "colab": {
      "provenance": [],
      "include_colab_link": true
    },
    "kernelspec": {
      "name": "python3",
      "display_name": "Python 3"
    },
    "language_info": {
      "name": "python"
    }
  },
  "cells": [
    {
      "cell_type": "markdown",
      "metadata": {
        "id": "view-in-github",
        "colab_type": "text"
      },
      "source": [
        "<a href=\"https://colab.research.google.com/github/madelgadog/Proyectos-de-aula-Informatica-y-Programacion/blob/main/Coulomb.ipynb\" target=\"_parent\"><img src=\"https://colab.research.google.com/assets/colab-badge.svg\" alt=\"Open In Colab\"/></a>"
      ]
    },
    {
      "cell_type": "code",
      "execution_count": null,
      "metadata": {
        "id": "Rp2u2RkI82Ol",
        "colab": {
          "base_uri": "https://localhost:8080/",
          "height": 374
        },
        "outputId": "e387939e-3c65-4234-a55f-12b797ac8f54"
      },
      "outputs": [
        {
          "output_type": "error",
          "ename": "ModuleNotFoundError",
          "evalue": "ignored",
          "traceback": [
            "\u001b[0;31m---------------------------------------------------------------------------\u001b[0m",
            "\u001b[0;31mModuleNotFoundError\u001b[0m                       Traceback (most recent call last)",
            "\u001b[0;32m<ipython-input-1-53b6194d61a8>\u001b[0m in \u001b[0;36m<module>\u001b[0;34m\u001b[0m\n\u001b[1;32m      3\u001b[0m \u001b[0;34m\u001b[0m\u001b[0m\n\u001b[1;32m      4\u001b[0m \u001b[0;31m# Calculadora F\u001b[0m\u001b[0;34m\u001b[0m\u001b[0;34m\u001b[0m\u001b[0;34m\u001b[0m\u001b[0m\n\u001b[0;32m----> 5\u001b[0;31m \u001b[0;32mimport\u001b[0m \u001b[0mventana\u001b[0m\u001b[0;34m\u001b[0m\u001b[0;34m\u001b[0m\u001b[0m\n\u001b[0m\u001b[1;32m      6\u001b[0m \u001b[0;32mimport\u001b[0m \u001b[0mtkinter\u001b[0m\u001b[0;34m\u001b[0m\u001b[0;34m\u001b[0m\u001b[0m\n\u001b[1;32m      7\u001b[0m \u001b[0;34m\u001b[0m\u001b[0m\n",
            "\u001b[0;31mModuleNotFoundError\u001b[0m: No module named 'ventana'",
            "",
            "\u001b[0;31m---------------------------------------------------------------------------\u001b[0;32m\nNOTE: If your import is failing due to a missing package, you can\nmanually install dependencies using either !pip or !apt.\n\nTo view examples of installing some common dependencies, click the\n\"Open Examples\" button below.\n\u001b[0;31m---------------------------------------------------------------------------\u001b[0m\n"
          ],
          "errorDetails": {
            "actions": [
              {
                "action": "open_url",
                "actionText": "Open Examples",
                "url": "/notebooks/snippets/importing_libraries.ipynb"
              }
            ]
          }
        }
      ],
      "source": [
        "#qx = 5*(10**(-6))    # Recuerde la notación para notación cientifica en el valor de la carga\n",
        "#r = 2.0      # Recuerde escribir la distancia en metros\n",
        "\n",
        "# Calculadora F\n",
        "import ventana\n",
        "import tkinter\n",
        "\n",
        "\n",
        "def fuerza(q1:float,q2:float,r:float) -> float:\n",
        "  k = (8.99)*(10**9)\n",
        "  return (k*q1*q2)/(r**2)\n",
        "q1 = float(input(\"Ingrese el valor de la primera carga\\n\"))\n",
        "q2 = float(input(\"Ingrese el valor de la segunda carga\\n\"))\n",
        "r = float(input(\"Ingrese el valor de la distancia ente ambas cargas\\n\"))\n",
        "print(\"El valor de la fuerza de atracción entre las dos cargas es: \" + str(fuerza(q1,q2,r)))\n",
        "\n",
        "#---------------------------------------------------------------------------------------------------------\n",
        "\n",
        "# Especifico F\n",
        "def fuerza(q1:float,q2:float,r:float) -> float: # def funcion\n",
        "  k = (8.99)*(10**9)  # valor K\n",
        "  return (k*q1*q1)/(r**2) # return del sistema\n",
        "q1 = 3*(10**(-6))    # Valor carga 1\n",
        "q2 = -8*(10**(-6))    # Valor carga 2\n",
        "r = 2.0      # Distancia r en ecuación \n",
        "print(\"El valor de la fuerza de atracción entre las dos cargas es: \" + str(fuerza(q1,q2,r)))\n",
        "\n",
        "#---------------------------------------------------------------------------------------------------------\n",
        "\n",
        "# Calculadora q2 o q1 xd\n",
        "def carga(f:float,q:float,r:float) -> float:\n",
        "  k = (8.99)*(10**9)\n",
        "  return (f*(r**2))/(q*k)\n",
        "f = float(input(\"Ingrese el valor de la fuerza\\n\"))\n",
        "q1 = float(input(\"Ingrese el valor de la carga\\n\"))\n",
        "r = float(input(\"Ingrese la distancia entre ambas cargas\\n\"))\n",
        "print(\"El valor de la carga es: \"+ str(carga(f,q1,r)))\n",
        "\n",
        "#---------------------------------------------------------------------------------------------------------\n",
        "\n",
        "# Especifico q2 o q1\n",
        "\n",
        "def carga(f:float,q:float,r:float) -> float: \n",
        "  k = (8.99)*(10**9) \n",
        "  return (f*(r**2))/(q*k) # formula\n",
        "f = 0.80 # fuerza\n",
        "q1 = (-20)*(10**(-7)) # carga\n",
        "r = 9.9 # Distancia \n",
        "print(\"El valor de la carga es: \" + str(carga(f,q1,r)))\n",
        "\n",
        "#---------------------------------------------------------------------------------------------------------\n",
        "\n",
        "#Calculadora r\n",
        "\n",
        "def sqrt(x) -> float:\n",
        "  return x**(1/2)\n",
        "def distancia(q1:float,q2:float,f:float) -> float:\n",
        "  k = (8.99)*(10**9) \n",
        "  return sqrt((k*q1*q2)/f) # formula \n",
        "q1 = float(input(\"Ingrese el valor de la primera carga\\n\"))\n",
        "q2 = float(input(\"Ingrese el valor de la segunda carga\\n\"))\n",
        "f = float(input(\"Ingrese el valor de la fuerza\\n\"))\n",
        "print(\"La distancia entre ambas cargas es:\" + str(distancia(q1,q2,f)))\n",
        "\n",
        "#---------------------------------------------------------------------------------------------------------\n",
        "\n",
        "def sqrt(x) -> float: # Funcion obligatoria para la raiz\n",
        "  return x**(1/2)\n",
        "def distancia(q1:float,q2:float,f:float) -> float: \n",
        "  k = (8.99)*(10**9) \n",
        "  return sqrt((k*q1*q2)/f) # formula \n",
        "q1 = 2.8 * (10**(-6)) # carga\n",
        "q2 = 7.5 * (10**(-6)) # carga\n",
        "f = 10.0 # fuerza\n",
        "print(\"La distancia entre ambas cargas es: \" + str(distancia(q1,q2,f)))\n",
        "\n",
        "#---------------------------------------------------------------------------------------------------------\n",
        "\n",
        "img = tkinter.PhotoImage(\"code.png\")\n",
        "lbl_img = tkinter.Label(ventana, image= img )\n",
        "lbl_img.pack()"
      ]
    },
    {
      "cell_type": "code",
      "source": [
        "def fuerza(q1:float,q2:float,r:float) -> float:\n",
        "  k = (8.99)*(10**9)\n",
        "  return (k*q1*q2)/(r**2)\n",
        "q1 = float(input(\"Ingrese el valor de la primera carga\\n\"))\n",
        "q2 = float(input(\"Ingrese el valor de la segunda carga\\n\"))\n",
        "r = float(input(\"Ingrese el valor de la distancia ente ambas cargas\\n\"))\n",
        "print(\"El valor de la fuerza de atracción entre las dos cargas es: \" + str(fuerza(q1,q2,r)))\n"
      ],
      "metadata": {
        "id": "odFlpv4d_z0L",
        "outputId": "035568e1-d82c-45bb-aefb-bcca3c538d41",
        "colab": {
          "base_uri": "https://localhost:8080/"
        }
      },
      "execution_count": null,
      "outputs": [
        {
          "output_type": "stream",
          "name": "stdout",
          "text": [
            "Ingrese el valor de la primera carga\n",
            "2\n",
            "Ingrese el valor de la segunda carga\n",
            "9\n",
            "Ingrese el valor de la distancia ente ambas cargas\n",
            "0.4\n",
            "El valor de la fuerza de atracción entre las dos cargas es: 1011374999999.9998\n"
          ]
        }
      ]
    }
  ]
}