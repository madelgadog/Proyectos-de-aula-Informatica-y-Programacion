{
  "cells": [
    {
      "cell_type": "markdown",
      "metadata": {
        "id": "view-in-github",
        "colab_type": "text"
      },
      "source": [
        "<a href=\"https://colab.research.google.com/github/madelgadog/Proyectos-de-aula-Informatica-y-Programacion/blob/main/Codigo_de_Informatica.ipynb\" target=\"_parent\"><img src=\"https://colab.research.google.com/assets/colab-badge.svg\" alt=\"Open In Colab\"/></a>"
      ]
    },
    {
      "cell_type": "markdown",
      "metadata": {
        "id": "vTM_SOdWE8fh"
      },
      "source": [
        "En este otro me enfoque mas en hacerlo de la manera mas simple que se podia y es a traves de la multiopcion y que entre a las condicionantes sin la necesidad de funciones\n"
      ]
    },
    {
      "cell_type": "code",
      "execution_count": null,
      "metadata": {
        "colab": {
          "base_uri": "https://localhost:8080/"
        },
        "id": "CwxOs_i7E5WL",
        "outputId": "712e64f1-5c3d-4292-e0f8-010dc9834e56"
      },
      "outputs": [
        {
          "output_type": "stream",
          "name": "stdout",
          "text": [
            "===CONVERTIDOR DE UNIDADES===\n",
            "1 - Libras a Kilos\n",
            "2 - Kilos a Libras\n",
            "3 - Peso colombiano a Dolares\n",
            "4 - Dolares a Peso colombiano\n",
            "5 - Celsius a Kelvin\n",
            "6 - Kelvin a celcius\n",
            "7 - mililitros a litros\n",
            "8 - Litros a mililitros\n",
            "Ingrese la opción de conversión que desea utilizar: 2\n",
            "Kilos a Libras\n",
            "Ingresa la cantidad en Kilogramos: 8\n",
            "El resultado de la conversión es: 17.64 \n"
          ]
        }
      ],
      "source": [
        "print(\"===CONVERTIDOR DE UNIDADES===\")\n",
        "print(\"1 - Libras a Kilos\\n2 - Kilos a Libras\\n3 - Peso colombiano a Dolares\\n4 - Dolares a Peso colombiano\\n5 - Celsius a Kelvin\\n6 - Kelvin a celcius\\n7 - mililitros a litros\\n8 - Litros a mililitros\")\n",
        "opcion = int(input(\"Ingrese la opción de conversión que desea utilizar: \"))\n",
        "resultado = 0\n",
        " \n",
        "if opcion == 1:\n",
        "    print(\"Libras a Kilos\")\n",
        "    entrada = float(input(\"Ingresa la cantidad en Libras: \"))\n",
        "    resultado = round(entrada*0.453592,2)\n",
        "elif opcion == 2:\n",
        "    print(\"Kilos a Libras\")\n",
        "    entrada = float(input(\"Ingresa la cantidad en Kilogramos: \"))\n",
        "    resultado = round(entrada*2.20462,2)\n",
        "elif opcion == 3:\n",
        "    print(\"Peso colombiano a Dolares\")\n",
        "    entrada = float(input(\"Ingresa la cantidad en Peso colombiano: \"))\n",
        "    resultado = round(entrada*0.00021)\n",
        "elif opcion == 4:\n",
        "    print(\"Dolares a Peso colombiano\")\n",
        "    entrada = float(input(\"Ingresa la cantidad en Dolares: \"))\n",
        "    resultado = round(entrada*4937,67)\n",
        "elif opcion == 5:\n",
        "    print(\"Celcius a Kelvin\")\n",
        "    entrada = float(input(\"ingresa la cantidad en grados celcius: \"))\n",
        "    resultado = round(entrada+273.15)\n",
        "elif opcion == 6:\n",
        "  print(\"Kelvin a celcius\")\n",
        "  entrada = float(input(\"ingresa la cantidad en kelvin\"))\n",
        "  resultado = round(entrada-273.15)\n",
        "elif opcion == 7:\n",
        "  print(\"mililitros a litros\")\n",
        "  entrada = float(input(\"ingresa la cantidad en mililitros\"))\n",
        "  resultado = round(entrada/1000, 3)\n",
        "elif opcion == 8:\n",
        "  print(\"litros a mililitros\")\n",
        "  entrada = float(input(\"ingresa la cantidad en litros\"))\n",
        "  resultado = round(entrada*1000.00)\n",
        "\n",
        "\n",
        " \n",
        "print(\"El resultado de la conversión es: {} \".format(resultado))"
      ]
    }
  ],
  "metadata": {
    "colab": {
      "provenance": [],
      "include_colab_link": true
    },
    "kernelspec": {
      "display_name": "Python 3",
      "name": "python3"
    },
    "language_info": {
      "name": "python"
    }
  },
  "nbformat": 4,
  "nbformat_minor": 0
}