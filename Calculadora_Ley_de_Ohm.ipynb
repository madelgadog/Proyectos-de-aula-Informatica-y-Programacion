{
  "cells": [
    {
      "cell_type": "markdown",
      "metadata": {
        "id": "view-in-github",
        "colab_type": "text"
      },
      "source": [
        "<a href=\"https://colab.research.google.com/github/madelgadog/Proyectos-de-aula-Informatica-y-Programacion/blob/main/Calculadora_Ley_de_Ohm.ipynb\" target=\"_parent\"><img src=\"https://colab.research.google.com/assets/colab-badge.svg\" alt=\"Open In Colab\"/></a>"
      ]
    },
    {
      "cell_type": "code",
      "execution_count": null,
      "metadata": {
        "id": "WzF7fNOVJjGC"
      },
      "outputs": [],
      "source": []
    },
    {
      "cell_type": "code",
      "execution_count": null,
      "metadata": {
        "id": "nGYZGf_JJqxI",
        "colab": {
          "base_uri": "https://localhost:8080/"
        },
        "outputId": "f6704855-4347-42a0-d146-1739b558037c"
      },
      "outputs": [
        {
          "output_type": "stream",
          "name": "stdout",
          "text": [
            " ______________________________________ \n",
            "|                                      |\n",
            "|         Universidad Distrital        |\n",
            "|        Francisco José de Caldas      |\n",
            "|______________________________________|\n",
            "|   Proyecto Curricular de Química     |\n",
            "|                                      |\n",
            "|        Calculadora Ley De Ohm        |\n",
            "|--------------------------------------|\n",
            "|--------  Desarrollado por   ---------|\n",
            "|--------------------------------------|\n",
            "|   Santiago Alexander Garzón Poveda   |\n",
            "|--------------------------------------|\n",
            "|------         Docente          ------|\n",
            "|      Miguel Angel Delgado Gomez      |\n",
            "|   Informática y programación basica  |\n",
            "|______________________________________|\n",
            "\n",
            "\n",
            "\n",
            "Bienvenido a la Calculadora Ley de Ohm\n",
            "¿Qué deseas resolver? Escriba la opción que desee.\n",
            "A) Voltaje (Voltios)\n",
            "B) Intensidad de corriente (Amperes)\n",
            "C) Resistencia (Ohm)\n",
            "D) Resistencias en serie y resistencias en paralelo (Ohm)\n",
            "E) Salir\n"
          ]
        }
      ],
      "source": [
        "print(' ______________________________________ ')\n",
        "print('|                                      |')\n",
        "print('|         Universidad Distrital        |')\n",
        "print('|        Francisco José de Caldas      |')\n",
        "print('|______________________________________|')\n",
        "print('|   Proyecto Curricular de Química     |')\n",
        "print('|                                      |')\n",
        "print('|        Calculadora Ley De Ohm        |')\n",
        "print('|--------------------------------------|')\n",
        "print('|--------  Desarrollado por   ---------|')\n",
        "print('|--------------------------------------|')\n",
        "print('|   Santiago Alexander Garzón Poveda   |')\n",
        "print('|--------------------------------------|')\n",
        "print('|------         Docente          ------|')\n",
        "print('|      Miguel Angel Delgado Gomez      |')\n",
        "print('|   Informática y programación basica  |')\n",
        "print('|______________________________________|')\n",
        "print()\n",
        "print()\n",
        "print()\n",
        "print(\"Bienvenido a la Calculadora Ley de Ohm\")\n",
        "runCode = True\n",
        "while (runCode):\n",
        "  print(\"¿Qué deseas resolver? Escriba la opción que desee.\")\n",
        "  print(\"A) Voltaje (Voltios)\")\n",
        "  print(\"B) Intensidad de corriente (Amperes)\")\n",
        "  print(\"C) Resistencia (Ohm)\")\n",
        "  print(\"D) Resistencias en serie y resistencias en paralelo (Ohm)\")\n",
        "  print(\"E) Salir\")\n",
        "  opcion = input()\n",
        "  print()\n",
        "  if opcion == 'A':\n",
        "      I = float(input(\"Digite el valor de la Intensidad de corriente: \"))\n",
        "      R = float(input(\"Digite el valor de la resistencia: \"))\n",
        "      ecuacion1 = I*R\n",
        "      print()\n",
        "      print(\"El Voltaje es: \", ecuacion1, \"Voltios.\")\n",
        "      print()                    \n",
        "  \n",
        "  elif opcion == 'B':\n",
        "      V = float(input(\"Digite el valor de voltaje: \"))\n",
        "      R = float(input(\"Digite el valor de la resistencia: \"))\n",
        "      ecuacion2 = V/R\n",
        "      print()\n",
        "      print(\"La Intensidad de Corriente es: \", ecuacion2, \"Amperes.\")\n",
        "      print()    \n",
        "  \n",
        "  elif opcion == 'C':\n",
        "      I = float(input(\"Digite la Intensidad de corriente: \"))\n",
        "      V = float(input(\"Digite el valor del Voltaje: \"))\n",
        "      ecuacion3 = V/I\n",
        "      print()\n",
        "      print(\"La Resistencia es: \", ecuacion3, \"Ohm.\")\n",
        "      print()\n",
        "  \n",
        "  elif opcion == 'D':\n",
        "      print(\"La resistencia total para para un circuito con resistencias en serie sera la sumatoria de cada una de las resistencias en serie, Rt=R1+R2+...+Rn.\"\n",
        "            \"La resistencia total para para un circuito con resistencias en paralelo sera la sumatoria de cada una de las resistencias en paralelo, Rt=1/R1+1/R2+...+1/Rn\")\n",
        "      print()\n",
        "  \n",
        "  elif opcion == 'E':\n",
        "      print(\"¡Hasta luego! Ha sido un placer ayudarte\")\n",
        "      runCode=False;    \n",
        "      break;\n",
        "  else:\n",
        "      print(\"Comando desconocido, vuelve a intentarlo.\")\n",
        "      print()\n",
        "  \n",
        "  inToWhile = True\n",
        "  while(inToWhile):\n",
        "    print(\"¿Desea calcular nuevamente?\")\n",
        "    print(\"1) Si\")\n",
        "    print(\"2) No\")\n",
        "    opcIn = input()\n",
        "    if(opcIn=='1' or opcIn =='Si' or opcIn =='si' or opcIn =='SI' or opcIn =='sI'):\n",
        "      inToWhile=False\n",
        "    elif(opcIn=='2' or opcIn =='No' or opcIn =='no' or opcIn =='NO' or opcIn =='nO'):\n",
        "      print(\"¡Hasta luego! Ha sido un placer ayudarte\")\n",
        "      inToWhile = False;\n",
        "      runCode = False;      \n",
        "    elif(opcIn!= '1' and opcIn!= '2'):\n",
        "      print(\"Por favor ingrese una opción valida\")"
      ]
    },
    {
      "cell_type": "code",
      "execution_count": null,
      "metadata": {
        "id": "pVJDdPWs6GbD"
      },
      "outputs": [],
      "source": [
        "A\n",
        "1\n"
      ]
    }
  ],
  "metadata": {
    "colab": {
      "collapsed_sections": [],
      "name": "Calculadora Ley de Ohm.ipynb",
      "provenance": [],
      "include_colab_link": true
    },
    "kernelspec": {
      "display_name": "Python 3",
      "name": "python3"
    },
    "language_info": {
      "name": "python"
    }
  },
  "nbformat": 4,
  "nbformat_minor": 0
}