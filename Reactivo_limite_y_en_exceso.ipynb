{
  "nbformat": 4,
  "nbformat_minor": 0,
  "metadata": {
    "colab": {
      "name": "Reactivo limite y en exceso.ipynb",
      "provenance": [],
      "authorship_tag": "ABX9TyM34bR2GcIuff4R4KhV9NBv",
      "include_colab_link": true
    },
    "kernelspec": {
      "name": "python3",
      "display_name": "Python 3"
    },
    "language_info": {
      "name": "python"
    }
  },
  "cells": [
    {
      "cell_type": "markdown",
      "metadata": {
        "id": "view-in-github",
        "colab_type": "text"
      },
      "source": [
        "<a href=\"https://colab.research.google.com/github/madelgadog/Proyectos-de-aula-Informatica-y-Programacion/blob/main/Reactivo_limite_y_en_exceso.ipynb\" target=\"_parent\"><img src=\"https://colab.research.google.com/assets/colab-badge.svg\" alt=\"Open In Colab\"/></a>"
      ]
    },
    {
      "cell_type": "code",
      "execution_count": null,
      "metadata": {
        "colab": {
          "base_uri": "https://localhost:8080/"
        },
        "id": "WrIFcbB--6mP",
        "outputId": "d85ba065-8cc8-4366-aa07-300ec04bdd62"
      },
      "outputs": [
        {
          "output_type": "stream",
          "name": "stdout",
          "text": [
            "¿Cual es la estructura del Reactivo A?: NaOH\n",
            "¿Cual es la estructura del Reactivo B?: CO2\n",
            "¿Cual es la estructura del Producto?: NaHCO3\n",
            "¿La masa de NaOH esta dada en Gramos o Moles?: gramos\n",
            "Masa molar de NaOH: 40\n",
            "Masa problema de NaOH: 35\n",
            "¿La masa de CO2 esta dada en Gramos o Moles?: gramos\n",
            "Masa molar de CO2: 44\n",
            "Masa problema de CO2: 50\n",
            "Coeficiente estequiométrico de NaOH: 1\n",
            "Coeficiente estequiométrico de CO2: 1\n",
            "Coeficiente estequiométrico de NaHCO3: 1\n",
            "El NaOH es el reactivo limitante ya que produce 0.875 moles de NaHCO3, mientras que el CO2 produciría 1.1363636363636365 moles de NaHCO3, de tal manera que quedan 0.26136363636363646 moles de CO2\n",
            "Gracias por usar este código\n"
          ]
        }
      ],
      "source": [
        "#Reconocer los reactivos y productos del problema#\n",
        "Reactivo_A = input (\"¿Cual es la estructura del Reactivo A?: \")\n",
        "Reactivo_B = input (\"¿Cual es la estructura del Reactivo B?: \")\n",
        "Producto = input (\"¿Cual es la estructura del Producto?: \")\n",
        "\n",
        "#Saber si la masa de reactivo A está dada en gramos o moles#\n",
        "GOM_A = input (\"¿La masa de \" + Reactivo_A + \" esta dada en Gramos o Moles?: \")\n",
        "if GOM_A in [\"Gramo\", \"gramo\", \"Gramos\", \"gramos\"] :\n",
        "    MasaM_A = float (input (\"Masa molar de \" + Reactivo_A + \": \"))\n",
        "    MasaP_A = float (input (\"Masa problema de \" + Reactivo_A + \": \"))\n",
        "    Moles_A = float (MasaP_A/MasaM_A)\n",
        "\n",
        "elif GOM_A in [\"Mol\", \"mol\", \"Moles\", \"moles\"] :\n",
        "    Moles_A = float (input (\"Moles de \" + Reactivo_A +\": \"))\n",
        "\n",
        "else :\n",
        "    print (\"Respuesta inválida, responda Gramos o Moles, por favor\")\n",
        "    exit ()\n",
        "\n",
        "#Saber si la masa de reactivo B está dada en gramos o moles#\n",
        "GOM_B = input (\"¿La masa de \" + Reactivo_B + \" esta dada en Gramos o Moles?: \")\n",
        "if GOM_B in [\"Gramo\", \"gramo\", \"Gramos\", \"gramos\"] :\n",
        "    MasaM_B = float (input (\"Masa molar de \" + Reactivo_B + \": \"))\n",
        "    MasaP_B = float (input (\"Masa problema de \" + Reactivo_B + \": \"))\n",
        "    Moles_B = float (MasaP_B/MasaM_B)\n",
        "\n",
        "elif GOM_B in [\"Mol\", \"mol\", \"Moles\", \"moles\"] :\n",
        "    Moles_B = float (input (\"Moles de \" + Reactivo_B + \": \"))\n",
        "\n",
        "else :\n",
        "    print (\"Respuesta inválida, responda Gramos o Moles, por favor\")\n",
        "    exit ()\n",
        "\n",
        "#Factores de conversión básicos basados en los coeficientes estequiométricos#\n",
        "Coeficiente_A = float (input (\"Coeficiente estequiométrico de \" + Reactivo_A + \": \"))\n",
        "Coeficiente_B = float (input (\"Coeficiente estequiométrico de \" + Reactivo_B + \": \"))\n",
        "Coeficiente_P = float (input (\"Coeficiente estequiométrico de \" + Producto + \": \"))\n",
        "Relacion_A = float (float (Coeficiente_P)/float (Coeficiente_A))\n",
        "Relacion_B = float (float (Coeficiente_P)/float (Coeficiente_B))\n",
        "MolesP_A = float (float (Moles_A) * float (Relacion_A))\n",
        "MolesP_B = float (float (Moles_B) * float (Relacion_B))\n",
        "\n",
        "#Condicionales para la conclusión final basado en la cantidad de producto producido según el reactivo A y el reactivo B#\n",
        "if MolesP_A < MolesP_B :\n",
        "    Exceso_B = (MolesP_B - MolesP_A)/Relacion_B\n",
        "    print (\"El \" + Reactivo_A + \" es el reactivo limitante ya que produce \" + str (MolesP_A) + \" moles de \" + Producto + \", mientras que el \" + Reactivo_B + \" produciría \" + str (MolesP_B) + \" moles de \" + Producto + \", de tal manera que quedan \" + str (Exceso_B) + \" moles de \" + Reactivo_B)\n",
        "\n",
        "else :\n",
        "    Exceso_A = (MolesP_A - MolesP_B)/Relacion_A\n",
        "    print (\"El \" + Reactivo_B + \" es el reactivo limitante ya que produce \" + str (MolesP_B) + \" moles de \" + Producto + \", mientras que el \" + Reactivo_A + \" produciría \" + str (MolesP_A) + \" moles de \" + Producto + \", de tal manera que quedan \" + str (Exceso_A) + \" moles de \" + Reactivo_A)\n",
        "\n",
        "\n",
        "print (\"Gracias por usar este código\")"
      ]
    }
  ]
}