{
  "cells": [
    {
      "cell_type": "markdown",
      "metadata": {
        "id": "view-in-github",
        "colab_type": "text"
      },
      "source": [
        "<a href=\"https://colab.research.google.com/github/madelgadog/Proyectos-de-aula-Informatica-y-Programacion/blob/main/Ajuste_parametros_modelos_no_lin.ipynb\" target=\"_parent\"><img src=\"https://colab.research.google.com/assets/colab-badge.svg\" alt=\"Open In Colab\"/></a>"
      ]
    },
    {
      "cell_type": "code",
      "source": [
        "import numpy as np\n",
        "from scipy.optimize import curve_fit\n",
        "import matplotlib.pyplot as plt\n",
        "\n",
        "# Cargar los datos desde un archivo .txt\n",
        "data = np.loadtxt(\"datos.txt\")\n",
        "x_data = data[:, 0]\n",
        "y_data = data[:, 1]\n",
        "\n",
        "# Definición del modelo a ajustar\n",
        "def antoine(T, a, b, c):\n",
        "    return 10**(a - b / (T + c))\n",
        "\n",
        "# Ajuste de los parámetros del modelo a los datos\n",
        "popt, pcov = curve_fit(antoine, x_data, y_data)\n",
        "\n",
        "\n",
        "# Imprimir los parámetros ajustados\n",
        "print(\"Parámetros ajustados: a = %f, b = %f, c = %f\" % tuple(popt))\n",
        "\n",
        "# Gráfica de los datos y el modelo ajustado\n",
        "plt.plot(x_data, y_data, 'o', label='Datos')\n",
        "plt.plot(x_data, antoine(x_data, *popt), '-', label='Modelo ajustado')\n",
        "plt.legend()\n",
        "plt.show()\n"
      ],
      "metadata": {
        "colab": {
          "base_uri": "https://localhost:8080/",
          "height": 282
        },
        "id": "mSv36N8VbA8I",
        "outputId": "7579fc35-66b9-4df2-9f0d-8c2df6a098ac"
      },
      "execution_count": 30,
      "outputs": [
        {
          "output_type": "stream",
          "name": "stdout",
          "text": [
            "Parámetros ajustados: a = 5.185785, b = 1727.804406, c = 233.181837\n"
          ]
        },
        {
          "output_type": "display_data",
          "data": {
            "text/plain": [
              "<Figure size 432x288 with 1 Axes>"
            ],
            "image/png": "[encoded data removed]"
          },
          "metadata": {
            "needs_background": "light"
          }
        }
      ]
    }
  ],
  "metadata": {
    "colab": {
      "provenance": [],
      "authorship_tag": "ABX9TyMmUFwvwF1f45IXWvxT7Psl",
      "include_colab_link": true
    },
    "kernelspec": {
      "display_name": "Python 3",
      "name": "python3"
    },
    "language_info": {
      "name": "python"
    }
  },
  "nbformat": 4,
  "nbformat_minor": 0
}