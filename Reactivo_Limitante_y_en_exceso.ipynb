{
  "nbformat": 4,
  "nbformat_minor": 0,
  "metadata": {
    "colab": {
      "provenance": [],
      "include_colab_link": true
    },
    "kernelspec": {
      "name": "python3",
      "display_name": "Python 3"
    },
    "language_info": {
      "name": "python"
    }
  },
  "cells": [
    {
      "cell_type": "markdown",
      "metadata": {
        "id": "view-in-github",
        "colab_type": "text"
      },
      "source": [
        "<a href=\"https://colab.research.google.com/github/madelgadog/Proyectos-de-aula-Informatica-y-Programacion/blob/main/Reactivo_Limitante_y_en_exceso.ipynb\" target=\"_parent\"><img src=\"https://colab.research.google.com/assets/colab-badge.svg\" alt=\"Open In Colab\"/></a>"
      ]
    },
    {
      "cell_type": "code",
      "execution_count": null,
      "metadata": {
        "colab": {
          "base_uri": "https://localhost:8080/"
        },
        "id": "JnsdvGilgKn4",
        "outputId": "52f63add-436f-428e-cd6c-4c96214cef45"
      },
      "outputs": [
        {
          "output_type": "stream",
          "name": "stdout",
          "text": [
            "¿Cual es la estructura del Reactivo A?: Fe\n",
            "¿Cual es la estructura del Reactivo B?: S\n",
            "¿Cual es la estructura del Producto?: FeS\n",
            "¿La masa de Fe esta dada en Gramos o Moles?: Gramos\n",
            "Masa molar de Fe: 56\n",
            "Masa problema de Fe: 8\n",
            "¿La masa de S esta dada en Gramos o Moles?: Gramos\n",
            "Masa molar de S: 32\n",
            "Masa problema de S: 9\n",
            "Coeficiente estequiométrico de Fe: 1\n",
            "Coeficiente estequiométrico de S: 1\n",
            "Coeficiente estequiométrico de FeS: 1\n",
            "El Fe es el reactivo limitante ya que produce 0.14285714285714285 moles de FeS, mientras que el S produciría 0.28125 moles de FeS, de tal manera que quedan 0.13839285714285715 moles de S\n",
            "Gracias por usar este código\n"
          ]
        }
      ],
      "source": [
        "Reactivo_A = input (\"¿Cual es la estructura del Reactivo A?: \")\n",
        "Reactivo_B = input (\"¿Cual es la estructura del Reactivo B?: \")\n",
        "Producto = input (\"¿Cual es la estructura del Producto?: \")\n",
        "\n",
        "GOM_A = input (\"¿La masa de \" + Reactivo_A + \" esta dada en Gramos o Moles?: \")\n",
        "if GOM_A in [\"Gramo\", \"gramo\", \"Gramos\", \"gramos\"] :\n",
        "    MasaM_A = float (input (\"Masa molar de \" + Reactivo_A + \": \"))\n",
        "    MasaP_A = float (input (\"Masa problema de \" + Reactivo_A + \": \"))\n",
        "    Moles_A = float (MasaP_A/MasaM_A)\n",
        "\n",
        "elif GOM_A in [\"Mol\", \"mol\", \"Moles\", \"moles\"] :\n",
        "    Moles_A = float (input (\"Moles de \" + Reactivo_A +\": \"))\n",
        "\n",
        "else :\n",
        "    print (\"Respuesta inválida, responda Gramos o Moles, por favor\")\n",
        "    exit ()\n",
        "\n",
        "GOM_B = input (\"¿La masa de \" + Reactivo_B + \" esta dada en Gramos o Moles?: \")\n",
        "if GOM_B in [\"Gramo\", \"gramo\", \"Gramos\", \"gramos\"] :\n",
        "    MasaM_B = float (input (\"Masa molar de \" + Reactivo_B + \": \"))\n",
        "    MasaP_B = float (input (\"Masa problema de \" + Reactivo_B + \": \"))\n",
        "    Moles_B = float (MasaP_B/MasaM_B)\n",
        "\n",
        "elif GOM_B in [\"Mol\", \"mol\", \"Moles\", \"moles\"] :\n",
        "    Moles_B = float (input (\"Moles de \" + Reactivo_B + \": \"))\n",
        "\n",
        "else :\n",
        "    print (\"Respuesta inválida, responda Gramos o Moles, por favor\")\n",
        "    exit ()\n",
        "\n",
        "Coeficiente_A = float (input (\"Coeficiente estequiométrico de \" + Reactivo_A + \": \"))\n",
        "Coeficiente_B = float (input (\"Coeficiente estequiométrico de \" + Reactivo_B + \": \"))\n",
        "Coeficiente_P = float (input (\"Coeficiente estequiométrico de \" + Producto + \": \"))\n",
        "Relacion_A = float (float (Coeficiente_P)/float (Coeficiente_A))\n",
        "Relacion_B = float (float (Coeficiente_P)/float (Coeficiente_B))\n",
        "MolesP_A = float (float (Moles_A) * float (Relacion_A))\n",
        "MolesP_B = float (float (Moles_B) * float (Relacion_B))\n",
        "\n",
        "\n",
        "if MolesP_A < MolesP_B :\n",
        "    Exceso_B = (MolesP_B - MolesP_A)/Relacion_B\n",
        "    print (\"El \" + Reactivo_A + \" es el reactivo limitante ya que produce \" + str (MolesP_A) + \" moles de \" + Producto + \", mientras que el \" + Reactivo_B + \" produciría \" + str (MolesP_B) + \" moles de \" + Producto + \", de tal manera que quedan \" + str (Exceso_B) + \" moles de \" + Reactivo_B)\n",
        "\n",
        "else :\n",
        "    Exceso_A = (MolesP_A - MolesP_B)/Relacion_A\n",
        "    print (\"El \" + Reactivo_B + \" es el reactivo limitante ya que produce \" + str (MolesP_B) + \" moles de \" + Producto + \", mientras que el \" + Reactivo_A + \" produciría \" + str (MolesP_A) + \" moles de \" + Producto + \", de tal manera que quedan \" + str (Exceso_A) + \" moles de \" + Reactivo_A)\n",
        "\n",
        "\n",
        "print (\"Gracias por usar este código\")\n",
        "\n"
      ]
    }
  ]
}